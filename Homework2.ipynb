{
 "cells": [
  {
   "cell_type": "markdown",
   "metadata": {},
   "source": [
    "# Hacking Incident\n",
    "\n",
    "We're being hacked! We need your help to get a message to the main server.\n",
    "\n",
    "We need you to accomplish 3 tasks:\n",
    "\n",
    "1. Create a Caeser cipher encryption function.\n",
    "2. Create another function that decrypts a Caeser cipher message.\n",
    "\n",
    "We've set up a framework for you to follow here in this notebook. Feel free to use it, or create your own base functions."
   ]
  },
  {
   "cell_type": "markdown",
   "metadata": {},
   "source": [
    "## Encryption Function\n",
    "\n",
    "This function should take in two parameters, the plain text message and the shift number for the Caeser cipher.\n",
    "\n",
    "To create the cipher you will need to create a list of the alphabet. You can either write out the alphabet manually, or use the [string library](https://docs.python.org/3/library/string.html?highlight=string#module-string) to get all the lowercase alphabet. You will first need to run *import string* , and then call the attribute. For example:\n",
    "\n",
    "    import string\n",
    "    alphabet = string.ascii_lowercase\n",
    "    print(alphabet)\n",
    "    print(list(alphabet))\n",
    "    \n",
    "An empty function with some comments is here below for you to fill out:"
   ]
  },
  {
   "cell_type": "code",
   "execution_count": 26,
   "metadata": {
    "collapsed": true
   },
   "outputs": [],
   "source": [
    "def encrypt(text: str, shift: int) -> str:\n",
    "    '''\n",
    "    INPUT: text as a string and an integer for the shift value.\n",
    "    OUTPUT: The shifted text after being run through the Caeser cipher.\n",
    "    '''\n",
    "    import string\n",
    "    # Create normal alphabet\n",
    "    normal_alphabet = list(string.ascii_lowercase)\n",
    "    # Use modulo so the function will work with any integer.\n",
    "    shift = shift % len(normal_alphabet)\n",
    "    # Build shifted alphabet\n",
    "    shifted_alphabet = normal_alphabet[shift:] + normal_alphabet[:shift]\n",
    "    # Store output value in str. Maybe storing in list(or in LIFO queue) and joining back to string would be faster and more memory effective. Nie wiem\n",
    "    encrypted_text = str()\n",
    "    for char in text:\n",
    "        char_lower = char.lower()\n",
    "        if char == ' ':\n",
    "            encrypted_text += ' '\n",
    "        # Some letter\n",
    "        elif char_lower in normal_alphabet:\n",
    "            index = normal_alphabet.index(char_lower)\n",
    "            encrypted_text += shifted_alphabet[index]\n",
    "        # This function ignores punctuation, numbers etc. Only characters that are present in normal alphabet will be processed.\n",
    "            \n",
    "    return encrypted_text"
   ]
  },
  {
   "cell_type": "markdown",
   "metadata": {},
   "source": [
    "** An example input and output: **"
   ]
  },
  {
   "cell_type": "code",
   "execution_count": 24,
   "metadata": {},
   "outputs": [
    {
     "data": {
      "text/plain": [
       "'sqf ftue yqeemsq fa ftq ymuz eqdhqd'"
      ]
     },
     "execution_count": 24,
     "metadata": {},
     "output_type": "execute_result"
    }
   ],
   "source": [
    "encrypt('Get this message to the main server',-40)"
   ]
  },
  {
   "cell_type": "markdown",
   "metadata": {},
   "source": [
    "## Decryption\n",
    "\n",
    "Now create a new function that will \"decrypt\" a shifted message. It should basically do the reverse of the encryption function. The process will be very similar as your previous function, but the alphabets will be switched."
   ]
  },
  {
   "cell_type": "code",
   "execution_count": 23,
   "metadata": {
    "collapsed": true
   },
   "outputs": [],
   "source": [
    "def decrypt(text: str, shift: int) -> str:\n",
    "    '''\n",
    "    Do stuff analogically to `encrypt` function but the other way around in order to decrypt the text.\n",
    "    INPUT: A shifted message and the integer shift value\n",
    "    OUTPUT: The plain text original message.\n",
    "    '''\n",
    "    import string \n",
    "    normal_alphabet = list(string.ascii_lowercase)\n",
    "    shift = shift % len(normal_alphabet)\n",
    "    shifted_alphabet = normal_alphabet[shift:] + normal_alphabet[:shift]\n",
    "    decrypted_text = str()\n",
    "    for char in text:\n",
    "        char_lower = char.lower()\n",
    "        if char == ' ':\n",
    "            decrypted_text += ' '\n",
    "        elif char_lower in shifted_alphabet:\n",
    "            index = shifted_alphabet.index(char_lower)\n",
    "            decrypted_text += normal_alphabet[index]\n",
    "            \n",
    "    return decrypted_text"
   ]
  },
  {
   "cell_type": "markdown",
   "metadata": {},
   "source": [
    "** Here is an example output: **"
   ]
  },
  {
   "cell_type": "code",
   "execution_count": 27,
   "metadata": {},
   "outputs": [
    {
     "data": {
      "text/plain": [
       "'get this message to the main server'"
      ]
     },
     "execution_count": 27,
     "metadata": {},
     "output_type": "execute_result"
    }
   ],
   "source": [
    "decrypt('sqf ftue yqeemsq fa ftq ymuz eqdhqd',-40)"
   ]
  }
 ],
 "metadata": {
  "kernelspec": {
   "display_name": "Python 3",
   "language": "python",
   "name": "python3"
  },
  "language_info": {
   "codemirror_mode": {
    "name": "ipython",
    "version": 3
   },
   "file_extension": ".py",
   "mimetype": "text/x-python",
   "name": "python",
   "nbconvert_exporter": "python",
   "pygments_lexer": "ipython3",
   "version": "3.12.0"
  }
 },
 "nbformat": 4,
 "nbformat_minor": 2
}
